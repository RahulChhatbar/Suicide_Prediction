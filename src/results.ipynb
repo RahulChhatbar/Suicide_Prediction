{
 "cells": [
  {
   "cell_type": "code",
   "execution_count": 13,
   "metadata": {},
   "outputs": [],
   "source": [
    "import pandas as pd\n",
    "from sklearn.model_selection import train_test_split\n",
    "from sklearn.metrics import accuracy_score, precision_score, recall_score, f1_score\n",
    "from sklearn.feature_extraction.text import TfidfVectorizer\n",
    "import joblib\n",
    "import warnings\n",
    "warnings.filterwarnings(\"ignore\")"
   ]
  },
  {
   "cell_type": "code",
   "execution_count": 2,
   "metadata": {},
   "outputs": [
    {
     "name": "stdout",
     "output_type": "stream",
     "text": [
      "Dataset shape: (232074, 2)\n",
      "Shape of Suicide dataset: (116037, 2)\n",
      "Shape of Non Suicide dataset: (116037, 2)\n"
     ]
    }
   ],
   "source": [
    "df = pd.read_csv('../Input/preprocessed.csv', usecols=['processed_text', 'class'])\n",
    "print(\"Dataset shape:\", df.shape)\n",
    "print(\"Shape of Suicide dataset:\", df[df['class'] == 'suicide'].shape)\n",
    "print(\"Shape of Non Suicide dataset:\", df[df['class'] == 'non-suicide'].shape)"
   ]
  },
  {
   "cell_type": "code",
   "execution_count": 3,
   "metadata": {},
   "outputs": [
    {
     "name": "stdout",
     "output_type": "stream",
     "text": [
      "\n",
      "After dropping null values from processed_text:\n",
      "Dataset shape: (232030, 2)\n",
      "Shape of Suicide dataset: (116025, 2)\n",
      "Shape of Non Suicide dataset: (116005, 2)\n",
      "\n",
      "After dropping null values from class:\n",
      "Dataset shape: (232030, 2)\n",
      "Shape of Suicide dataset: (116025, 2)\n",
      "Shape of Non Suicide dataset: (116005, 2)\n"
     ]
    }
   ],
   "source": [
    "df.dropna(subset=['processed_text'], inplace=True)\n",
    "print(\"\\nAfter dropping null values from processed_text:\")\n",
    "print(\"Dataset shape:\", df.shape)\n",
    "print(\"Shape of Suicide dataset:\", df[df['class'] == 'suicide'].shape)\n",
    "print(\"Shape of Non Suicide dataset:\", df[df['class'] == 'non-suicide'].shape)\n",
    "\n",
    "df.dropna(subset=['class'], inplace=True)\n",
    "print(\"\\nAfter dropping null values from class:\")\n",
    "print(\"Dataset shape:\", df.shape)\n",
    "print(\"Shape of Suicide dataset:\", df[df['class'] == 'suicide'].shape)\n",
    "print(\"Shape of Non Suicide dataset:\", df[df['class'] == 'non-suicide'].shape)"
   ]
  },
  {
   "cell_type": "code",
   "execution_count": 4,
   "metadata": {},
   "outputs": [],
   "source": [
    "X = df['processed_text']\n",
    "y = df['class']"
   ]
  },
  {
   "cell_type": "code",
   "execution_count": 5,
   "metadata": {},
   "outputs": [],
   "source": [
    "vectorizer = TfidfVectorizer()\n",
    "X = vectorizer.fit_transform(X)"
   ]
  },
  {
   "cell_type": "code",
   "execution_count": 6,
   "metadata": {},
   "outputs": [],
   "source": [
    "X_train, X_test, y_train, y_test = train_test_split(X, y, test_size=0.2, random_state=42)"
   ]
  },
  {
   "cell_type": "code",
   "execution_count": 9,
   "metadata": {},
   "outputs": [],
   "source": [
    "def evaluate_model(model, X_test, y_test):\n",
    "    y_pred = model.predict(X_test)\n",
    "    accuracy = accuracy_score(y_test, y_pred)\n",
    "    precision = precision_score(y_test, y_pred, pos_label='suicide')\n",
    "    recall = recall_score(y_test, y_pred, pos_label='suicide')\n",
    "    f1 = f1_score(y_test, y_pred, pos_label='suicide')\n",
    "    \n",
    "    print(f\"Accuracy: {accuracy:.4f}\")\n",
    "    print(f\"Precision: {precision:.4f}\")\n",
    "    print(f\"Recall: {recall:.4f}\")\n",
    "    print(f\"F1 Score: {f1:.4f}\")\n",
    "    print(\"-\" * 30, \"\\n\")"
   ]
  },
  {
   "cell_type": "code",
   "execution_count": 8,
   "metadata": {},
   "outputs": [],
   "source": [
    "model_filenames = [\n",
    "    '../Models/k_nearest_neighbors_model.pkl',\n",
    "    '../Models/logistic_regression_model.pkl',\n",
    "    '../Models/multinomial_naive_bayes_model.pkl',\n",
    "    '../Models/random_forest_model.pkl'\n",
    "]"
   ]
  },
  {
   "cell_type": "code",
   "execution_count": 14,
   "metadata": {},
   "outputs": [
    {
     "name": "stdout",
     "output_type": "stream",
     "text": [
      "Evaluating ../Models/k_nearest_neighbors_model.pkl model\n",
      "Accuracy: 0.8754\n",
      "Precision: 0.9165\n",
      "Recall: 0.8272\n",
      "F1 Score: 0.8696\n",
      "------------------------------ \n",
      "\n",
      "Evaluating ../Models/logistic_regression_model.pkl model\n",
      "Accuracy: 0.9325\n",
      "Precision: 0.9452\n",
      "Recall: 0.9188\n",
      "F1 Score: 0.9318\n",
      "------------------------------ \n",
      "\n",
      "Evaluating ../Models/multinomial_naive_bayes_model.pkl model\n",
      "Accuracy: 0.9052\n",
      "Precision: 0.8724\n",
      "Recall: 0.9502\n",
      "F1 Score: 0.9096\n",
      "------------------------------ \n",
      "\n",
      "Evaluating ../Models/random_forest_model.pkl model\n",
      "Accuracy: 0.8915\n",
      "Precision: 0.9008\n",
      "Recall: 0.8811\n",
      "F1 Score: 0.8908\n",
      "------------------------------ \n",
      "\n"
     ]
    }
   ],
   "source": [
    "for filename in model_filenames:\n",
    "    model = joblib.load(open(filename, 'rb'))\n",
    "    print(f\"Evaluating {filename} model\")\n",
    "    evaluate_model(model, X_test, y_test)"
   ]
  }
 ],
 "metadata": {
  "kernelspec": {
   "display_name": "base",
   "language": "python",
   "name": "python3"
  },
  "language_info": {
   "codemirror_mode": {
    "name": "ipython",
    "version": 3
   },
   "file_extension": ".py",
   "mimetype": "text/x-python",
   "name": "python",
   "nbconvert_exporter": "python",
   "pygments_lexer": "ipython3",
   "version": "3.11.5"
  }
 },
 "nbformat": 4,
 "nbformat_minor": 2
}
